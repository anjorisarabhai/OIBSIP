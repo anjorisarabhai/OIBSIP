{
 "cells": [
  {
   "cell_type": "markdown",
   "id": "1c8805ce",
   "metadata": {
    "id": "ueJy8pha-IkP",
    "papermill": {
     "duration": 0.01125,
     "end_time": "2024-01-13T18:49:19.669425",
     "exception": false,
     "start_time": "2024-01-13T18:49:19.658175",
     "status": "completed"
    },
    "tags": []
   },
   "source": [
    "# **SALES PREDICTION**"
   ]
  },
  {
   "cell_type": "markdown",
   "id": "6b490d6d",
   "metadata": {
    "id": "YhrHLoyF-NRp",
    "papermill": {
     "duration": 0.0101,
     "end_time": "2024-01-13T18:49:19.690428",
     "exception": false,
     "start_time": "2024-01-13T18:49:19.680328",
     "status": "completed"
    },
    "tags": []
   },
   "source": [
    "# **Objective**\n",
    "Sales prediction with machine learning using python"
   ]
  },
  {
   "cell_type": "markdown",
   "id": "2c6a0538",
   "metadata": {
    "papermill": {
     "duration": 0.010159,
     "end_time": "2024-01-13T18:49:19.711670",
     "exception": false,
     "start_time": "2024-01-13T18:49:19.701511",
     "status": "completed"
    },
    "tags": []
   },
   "source": [
    "# **Importing Libraries**"
   ]
  },
  {
   "cell_type": "code",
   "execution_count": 1,
   "id": "c4ccb486",
   "metadata": {
    "execution": {
     "iopub.execute_input": "2024-01-13T18:49:19.735756Z",
     "iopub.status.busy": "2024-01-13T18:49:19.735089Z",
     "iopub.status.idle": "2024-01-13T18:49:22.456775Z",
     "shell.execute_reply": "2024-01-13T18:49:22.455704Z"
    },
    "id": "l40YbOAh-nCd",
    "papermill": {
     "duration": 2.737008,
     "end_time": "2024-01-13T18:49:22.459796",
     "exception": false,
     "start_time": "2024-01-13T18:49:19.722788",
     "status": "completed"
    },
    "tags": []
   },
   "outputs": [],
   "source": [
    "import numpy as np\n",
    "import pandas as pd\n",
    "import seaborn as sns\n",
    "import matplotlib.pyplot as plt\n",
    "import os\n",
    "import statsmodels.formula.api as sm\n",
    "from sklearn.linear_model import LinearRegression, Ridge, Lasso, ElasticNet\n",
    "from sklearn.metrics import mean_squared_error, r2_score\n",
    "from sklearn.model_selection import train_test_split\n",
    "from sklearn.model_selection import cross_val_score\n",
    "from sklearn.model_selection import GridSearchCV\n",
    "import warnings"
   ]
  },
  {
   "cell_type": "code",
   "execution_count": 2,
   "id": "6a7307e2",
   "metadata": {
    "execution": {
     "iopub.execute_input": "2024-01-13T18:49:22.486403Z",
     "iopub.status.busy": "2024-01-13T18:49:22.485802Z",
     "iopub.status.idle": "2024-01-13T18:49:22.496362Z",
     "shell.execute_reply": "2024-01-13T18:49:22.495050Z"
    },
    "id": "mTJ268a3-tlT",
    "outputId": "a9982c38-0cce-4b35-b956-723f2614c34a",
    "papermill": {
     "duration": 0.027546,
     "end_time": "2024-01-13T18:49:22.499416",
     "exception": false,
     "start_time": "2024-01-13T18:49:22.471870",
     "status": "completed"
    },
    "tags": []
   },
   "outputs": [
    {
     "data": {
      "text/plain": [
       "'/kaggle/working'"
      ]
     },
     "execution_count": 2,
     "metadata": {},
     "output_type": "execute_result"
    }
   ],
   "source": [
    "warnings.simplefilter(action='ignore', category=FutureWarning)\n",
    "os.getcwd()"
   ]
  },
  {
   "cell_type": "code",
   "execution_count": 3,
   "id": "ee1d3aee",
   "metadata": {
    "execution": {
     "iopub.execute_input": "2024-01-13T18:49:22.526607Z",
     "iopub.status.busy": "2024-01-13T18:49:22.525921Z",
     "iopub.status.idle": "2024-01-13T18:49:22.552921Z",
     "shell.execute_reply": "2024-01-13T18:49:22.551363Z"
    },
    "id": "EkXHvdh--3Uq",
    "papermill": {
     "duration": 0.044646,
     "end_time": "2024-01-13T18:49:22.555960",
     "exception": false,
     "start_time": "2024-01-13T18:49:22.511314",
     "status": "completed"
    },
    "tags": []
   },
   "outputs": [],
   "source": [
    "df = pd.read_csv(\"/kaggle/input/advertisingcsv/Advertising.csv\")"
   ]
  },
  {
   "cell_type": "markdown",
   "id": "4c60fe5e",
   "metadata": {
    "id": "ncnK7Izv_PCv",
    "papermill": {
     "duration": 0.012505,
     "end_time": "2024-01-13T18:49:22.580592",
     "exception": false,
     "start_time": "2024-01-13T18:49:22.568087",
     "status": "completed"
    },
    "tags": []
   },
   "source": [
    "# **Exploratory Data Analysis**"
   ]
  },
  {
   "cell_type": "code",
   "execution_count": 4,
   "id": "3a920092",
   "metadata": {
    "execution": {
     "iopub.execute_input": "2024-01-13T18:49:22.608084Z",
     "iopub.status.busy": "2024-01-13T18:49:22.607553Z",
     "iopub.status.idle": "2024-01-13T18:49:22.635792Z",
     "shell.execute_reply": "2024-01-13T18:49:22.634299Z"
    },
    "id": "MiodbIp1_Jwa",
    "outputId": "8f2ebb89-487d-4611-a01b-8ee34b3337fc",
    "papermill": {
     "duration": 0.045201,
     "end_time": "2024-01-13T18:49:22.638769",
     "exception": false,
     "start_time": "2024-01-13T18:49:22.593568",
     "status": "completed"
    },
    "tags": []
   },
   "outputs": [
    {
     "data": {
      "text/html": [
       "<div>\n",
       "<style scoped>\n",
       "    .dataframe tbody tr th:only-of-type {\n",
       "        vertical-align: middle;\n",
       "    }\n",
       "\n",
       "    .dataframe tbody tr th {\n",
       "        vertical-align: top;\n",
       "    }\n",
       "\n",
       "    .dataframe thead th {\n",
       "        text-align: right;\n",
       "    }\n",
       "</style>\n",
       "<table border=\"1\" class=\"dataframe\">\n",
       "  <thead>\n",
       "    <tr style=\"text-align: right;\">\n",
       "      <th></th>\n",
       "      <th>Unnamed: 0</th>\n",
       "      <th>TV</th>\n",
       "      <th>Radio</th>\n",
       "      <th>Newspaper</th>\n",
       "      <th>Sales</th>\n",
       "    </tr>\n",
       "  </thead>\n",
       "  <tbody>\n",
       "    <tr>\n",
       "      <th>0</th>\n",
       "      <td>1</td>\n",
       "      <td>230.1</td>\n",
       "      <td>37.8</td>\n",
       "      <td>69.2</td>\n",
       "      <td>22.1</td>\n",
       "    </tr>\n",
       "    <tr>\n",
       "      <th>1</th>\n",
       "      <td>2</td>\n",
       "      <td>44.5</td>\n",
       "      <td>39.3</td>\n",
       "      <td>45.1</td>\n",
       "      <td>10.4</td>\n",
       "    </tr>\n",
       "    <tr>\n",
       "      <th>2</th>\n",
       "      <td>3</td>\n",
       "      <td>17.2</td>\n",
       "      <td>45.9</td>\n",
       "      <td>69.3</td>\n",
       "      <td>9.3</td>\n",
       "    </tr>\n",
       "    <tr>\n",
       "      <th>3</th>\n",
       "      <td>4</td>\n",
       "      <td>151.5</td>\n",
       "      <td>41.3</td>\n",
       "      <td>58.5</td>\n",
       "      <td>18.5</td>\n",
       "    </tr>\n",
       "    <tr>\n",
       "      <th>4</th>\n",
       "      <td>5</td>\n",
       "      <td>180.8</td>\n",
       "      <td>10.8</td>\n",
       "      <td>58.4</td>\n",
       "      <td>12.9</td>\n",
       "    </tr>\n",
       "  </tbody>\n",
       "</table>\n",
       "</div>"
      ],
      "text/plain": [
       "   Unnamed: 0     TV  Radio  Newspaper  Sales\n",
       "0           1  230.1   37.8       69.2   22.1\n",
       "1           2   44.5   39.3       45.1   10.4\n",
       "2           3   17.2   45.9       69.3    9.3\n",
       "3           4  151.5   41.3       58.5   18.5\n",
       "4           5  180.8   10.8       58.4   12.9"
      ]
     },
     "execution_count": 4,
     "metadata": {},
     "output_type": "execute_result"
    }
   ],
   "source": [
    "df.head()"
   ]
  },
  {
   "cell_type": "code",
   "execution_count": 5,
   "id": "e29315c0",
   "metadata": {
    "execution": {
     "iopub.execute_input": "2024-01-13T18:49:22.663388Z",
     "iopub.status.busy": "2024-01-13T18:49:22.662173Z",
     "iopub.status.idle": "2024-01-13T18:49:22.670164Z",
     "shell.execute_reply": "2024-01-13T18:49:22.669033Z"
    },
    "id": "PmHnFeTa_UWq",
    "outputId": "2553f40e-9d6c-4850-c3e1-39d0f7478514",
    "papermill": {
     "duration": 0.022718,
     "end_time": "2024-01-13T18:49:22.672493",
     "exception": false,
     "start_time": "2024-01-13T18:49:22.649775",
     "status": "completed"
    },
    "tags": []
   },
   "outputs": [
    {
     "data": {
      "text/plain": [
       "Index(['Unnamed: 0', 'TV', 'Radio', 'Newspaper', 'Sales'], dtype='object')"
      ]
     },
     "execution_count": 5,
     "metadata": {},
     "output_type": "execute_result"
    }
   ],
   "source": [
    "df.columns"
   ]
  },
  {
   "cell_type": "code",
   "execution_count": 6,
   "id": "0a4040f4",
   "metadata": {
    "execution": {
     "iopub.execute_input": "2024-01-13T18:49:22.699414Z",
     "iopub.status.busy": "2024-01-13T18:49:22.698662Z",
     "iopub.status.idle": "2024-01-13T18:49:22.707725Z",
     "shell.execute_reply": "2024-01-13T18:49:22.706633Z"
    },
    "id": "WUF7GrskAM4b",
    "papermill": {
     "duration": 0.025579,
     "end_time": "2024-01-13T18:49:22.710376",
     "exception": false,
     "start_time": "2024-01-13T18:49:22.684797",
     "status": "completed"
    },
    "tags": []
   },
   "outputs": [],
   "source": [
    "df.rename(columns={'Unnamed: 0': 'Index'}, inplace=True)"
   ]
  },
  {
   "cell_type": "code",
   "execution_count": 7,
   "id": "19784ad6",
   "metadata": {
    "execution": {
     "iopub.execute_input": "2024-01-13T18:49:22.735359Z",
     "iopub.status.busy": "2024-01-13T18:49:22.734650Z",
     "iopub.status.idle": "2024-01-13T18:49:22.753540Z",
     "shell.execute_reply": "2024-01-13T18:49:22.752351Z"
    },
    "id": "ZC4CmPemAVlq",
    "outputId": "9a835c39-b9bb-4deb-8eb3-8ad093907a65",
    "papermill": {
     "duration": 0.034682,
     "end_time": "2024-01-13T18:49:22.756616",
     "exception": false,
     "start_time": "2024-01-13T18:49:22.721934",
     "status": "completed"
    },
    "tags": []
   },
   "outputs": [
    {
     "data": {
      "text/html": [
       "<div>\n",
       "<style scoped>\n",
       "    .dataframe tbody tr th:only-of-type {\n",
       "        vertical-align: middle;\n",
       "    }\n",
       "\n",
       "    .dataframe tbody tr th {\n",
       "        vertical-align: top;\n",
       "    }\n",
       "\n",
       "    .dataframe thead th {\n",
       "        text-align: right;\n",
       "    }\n",
       "</style>\n",
       "<table border=\"1\" class=\"dataframe\">\n",
       "  <thead>\n",
       "    <tr style=\"text-align: right;\">\n",
       "      <th></th>\n",
       "      <th>Index</th>\n",
       "      <th>TV</th>\n",
       "      <th>Radio</th>\n",
       "      <th>Newspaper</th>\n",
       "      <th>Sales</th>\n",
       "    </tr>\n",
       "  </thead>\n",
       "  <tbody>\n",
       "    <tr>\n",
       "      <th>0</th>\n",
       "      <td>1</td>\n",
       "      <td>230.1</td>\n",
       "      <td>37.8</td>\n",
       "      <td>69.2</td>\n",
       "      <td>22.1</td>\n",
       "    </tr>\n",
       "    <tr>\n",
       "      <th>1</th>\n",
       "      <td>2</td>\n",
       "      <td>44.5</td>\n",
       "      <td>39.3</td>\n",
       "      <td>45.1</td>\n",
       "      <td>10.4</td>\n",
       "    </tr>\n",
       "    <tr>\n",
       "      <th>2</th>\n",
       "      <td>3</td>\n",
       "      <td>17.2</td>\n",
       "      <td>45.9</td>\n",
       "      <td>69.3</td>\n",
       "      <td>9.3</td>\n",
       "    </tr>\n",
       "    <tr>\n",
       "      <th>3</th>\n",
       "      <td>4</td>\n",
       "      <td>151.5</td>\n",
       "      <td>41.3</td>\n",
       "      <td>58.5</td>\n",
       "      <td>18.5</td>\n",
       "    </tr>\n",
       "    <tr>\n",
       "      <th>4</th>\n",
       "      <td>5</td>\n",
       "      <td>180.8</td>\n",
       "      <td>10.8</td>\n",
       "      <td>58.4</td>\n",
       "      <td>12.9</td>\n",
       "    </tr>\n",
       "    <tr>\n",
       "      <th>...</th>\n",
       "      <td>...</td>\n",
       "      <td>...</td>\n",
       "      <td>...</td>\n",
       "      <td>...</td>\n",
       "      <td>...</td>\n",
       "    </tr>\n",
       "    <tr>\n",
       "      <th>195</th>\n",
       "      <td>196</td>\n",
       "      <td>38.2</td>\n",
       "      <td>3.7</td>\n",
       "      <td>13.8</td>\n",
       "      <td>7.6</td>\n",
       "    </tr>\n",
       "    <tr>\n",
       "      <th>196</th>\n",
       "      <td>197</td>\n",
       "      <td>94.2</td>\n",
       "      <td>4.9</td>\n",
       "      <td>8.1</td>\n",
       "      <td>9.7</td>\n",
       "    </tr>\n",
       "    <tr>\n",
       "      <th>197</th>\n",
       "      <td>198</td>\n",
       "      <td>177.0</td>\n",
       "      <td>9.3</td>\n",
       "      <td>6.4</td>\n",
       "      <td>12.8</td>\n",
       "    </tr>\n",
       "    <tr>\n",
       "      <th>198</th>\n",
       "      <td>199</td>\n",
       "      <td>283.6</td>\n",
       "      <td>42.0</td>\n",
       "      <td>66.2</td>\n",
       "      <td>25.5</td>\n",
       "    </tr>\n",
       "    <tr>\n",
       "      <th>199</th>\n",
       "      <td>200</td>\n",
       "      <td>232.1</td>\n",
       "      <td>8.6</td>\n",
       "      <td>8.7</td>\n",
       "      <td>13.4</td>\n",
       "    </tr>\n",
       "  </tbody>\n",
       "</table>\n",
       "<p>200 rows × 5 columns</p>\n",
       "</div>"
      ],
      "text/plain": [
       "     Index     TV  Radio  Newspaper  Sales\n",
       "0        1  230.1   37.8       69.2   22.1\n",
       "1        2   44.5   39.3       45.1   10.4\n",
       "2        3   17.2   45.9       69.3    9.3\n",
       "3        4  151.5   41.3       58.5   18.5\n",
       "4        5  180.8   10.8       58.4   12.9\n",
       "..     ...    ...    ...        ...    ...\n",
       "195    196   38.2    3.7       13.8    7.6\n",
       "196    197   94.2    4.9        8.1    9.7\n",
       "197    198  177.0    9.3        6.4   12.8\n",
       "198    199  283.6   42.0       66.2   25.5\n",
       "199    200  232.1    8.6        8.7   13.4\n",
       "\n",
       "[200 rows x 5 columns]"
      ]
     },
     "execution_count": 7,
     "metadata": {},
     "output_type": "execute_result"
    }
   ],
   "source": [
    "df"
   ]
  },
  {
   "cell_type": "code",
   "execution_count": 8,
   "id": "75069e0b",
   "metadata": {
    "execution": {
     "iopub.execute_input": "2024-01-13T18:49:22.782758Z",
     "iopub.status.busy": "2024-01-13T18:49:22.781984Z",
     "iopub.status.idle": "2024-01-13T18:49:22.789577Z",
     "shell.execute_reply": "2024-01-13T18:49:22.787978Z"
    },
    "id": "UMr8F_bl_ZSy",
    "outputId": "10eadebe-d7b6-40f9-98ef-d776d1cfcacc",
    "papermill": {
     "duration": 0.02336,
     "end_time": "2024-01-13T18:49:22.792272",
     "exception": false,
     "start_time": "2024-01-13T18:49:22.768912",
     "status": "completed"
    },
    "tags": []
   },
   "outputs": [
    {
     "data": {
      "text/plain": [
       "(200, 5)"
      ]
     },
     "execution_count": 8,
     "metadata": {},
     "output_type": "execute_result"
    }
   ],
   "source": [
    "df.shape"
   ]
  },
  {
   "cell_type": "code",
   "execution_count": 9,
   "id": "bbdbccc2",
   "metadata": {
    "execution": {
     "iopub.execute_input": "2024-01-13T18:49:22.818899Z",
     "iopub.status.busy": "2024-01-13T18:49:22.818413Z",
     "iopub.status.idle": "2024-01-13T18:49:22.845774Z",
     "shell.execute_reply": "2024-01-13T18:49:22.844118Z"
    },
    "id": "kMbt6KxJ_zxX",
    "outputId": "e0c64889-00e0-40e7-c3ca-6b29b1fb9f2f",
    "papermill": {
     "duration": 0.043942,
     "end_time": "2024-01-13T18:49:22.848632",
     "exception": false,
     "start_time": "2024-01-13T18:49:22.804690",
     "status": "completed"
    },
    "tags": []
   },
   "outputs": [
    {
     "name": "stdout",
     "output_type": "stream",
     "text": [
      "<class 'pandas.core.frame.DataFrame'>\n",
      "RangeIndex: 200 entries, 0 to 199\n",
      "Data columns (total 5 columns):\n",
      " #   Column     Non-Null Count  Dtype  \n",
      "---  ------     --------------  -----  \n",
      " 0   Index      200 non-null    int64  \n",
      " 1   TV         200 non-null    float64\n",
      " 2   Radio      200 non-null    float64\n",
      " 3   Newspaper  200 non-null    float64\n",
      " 4   Sales      200 non-null    float64\n",
      "dtypes: float64(4), int64(1)\n",
      "memory usage: 7.9 KB\n"
     ]
    }
   ],
   "source": [
    "df.info()"
   ]
  },
  {
   "cell_type": "code",
   "execution_count": 10,
   "id": "fbf0ee0e",
   "metadata": {
    "execution": {
     "iopub.execute_input": "2024-01-13T18:49:22.877259Z",
     "iopub.status.busy": "2024-01-13T18:49:22.876828Z",
     "iopub.status.idle": "2024-01-13T18:49:22.910644Z",
     "shell.execute_reply": "2024-01-13T18:49:22.909449Z"
    },
    "papermill": {
     "duration": 0.050247,
     "end_time": "2024-01-13T18:49:22.913325",
     "exception": false,
     "start_time": "2024-01-13T18:49:22.863078",
     "status": "completed"
    },
    "tags": []
   },
   "outputs": [
    {
     "data": {
      "text/html": [
       "<div>\n",
       "<style scoped>\n",
       "    .dataframe tbody tr th:only-of-type {\n",
       "        vertical-align: middle;\n",
       "    }\n",
       "\n",
       "    .dataframe tbody tr th {\n",
       "        vertical-align: top;\n",
       "    }\n",
       "\n",
       "    .dataframe thead th {\n",
       "        text-align: right;\n",
       "    }\n",
       "</style>\n",
       "<table border=\"1\" class=\"dataframe\">\n",
       "  <thead>\n",
       "    <tr style=\"text-align: right;\">\n",
       "      <th></th>\n",
       "      <th>Index</th>\n",
       "      <th>TV</th>\n",
       "      <th>Radio</th>\n",
       "      <th>Newspaper</th>\n",
       "      <th>Sales</th>\n",
       "    </tr>\n",
       "  </thead>\n",
       "  <tbody>\n",
       "    <tr>\n",
       "      <th>count</th>\n",
       "      <td>200.000000</td>\n",
       "      <td>200.000000</td>\n",
       "      <td>200.000000</td>\n",
       "      <td>200.000000</td>\n",
       "      <td>200.000000</td>\n",
       "    </tr>\n",
       "    <tr>\n",
       "      <th>mean</th>\n",
       "      <td>100.500000</td>\n",
       "      <td>147.042500</td>\n",
       "      <td>23.264000</td>\n",
       "      <td>30.554000</td>\n",
       "      <td>14.022500</td>\n",
       "    </tr>\n",
       "    <tr>\n",
       "      <th>std</th>\n",
       "      <td>57.879185</td>\n",
       "      <td>85.854236</td>\n",
       "      <td>14.846809</td>\n",
       "      <td>21.778621</td>\n",
       "      <td>5.217457</td>\n",
       "    </tr>\n",
       "    <tr>\n",
       "      <th>min</th>\n",
       "      <td>1.000000</td>\n",
       "      <td>0.700000</td>\n",
       "      <td>0.000000</td>\n",
       "      <td>0.300000</td>\n",
       "      <td>1.600000</td>\n",
       "    </tr>\n",
       "    <tr>\n",
       "      <th>25%</th>\n",
       "      <td>50.750000</td>\n",
       "      <td>74.375000</td>\n",
       "      <td>9.975000</td>\n",
       "      <td>12.750000</td>\n",
       "      <td>10.375000</td>\n",
       "    </tr>\n",
       "    <tr>\n",
       "      <th>50%</th>\n",
       "      <td>100.500000</td>\n",
       "      <td>149.750000</td>\n",
       "      <td>22.900000</td>\n",
       "      <td>25.750000</td>\n",
       "      <td>12.900000</td>\n",
       "    </tr>\n",
       "    <tr>\n",
       "      <th>75%</th>\n",
       "      <td>150.250000</td>\n",
       "      <td>218.825000</td>\n",
       "      <td>36.525000</td>\n",
       "      <td>45.100000</td>\n",
       "      <td>17.400000</td>\n",
       "    </tr>\n",
       "    <tr>\n",
       "      <th>max</th>\n",
       "      <td>200.000000</td>\n",
       "      <td>296.400000</td>\n",
       "      <td>49.600000</td>\n",
       "      <td>114.000000</td>\n",
       "      <td>27.000000</td>\n",
       "    </tr>\n",
       "  </tbody>\n",
       "</table>\n",
       "</div>"
      ],
      "text/plain": [
       "            Index          TV       Radio   Newspaper       Sales\n",
       "count  200.000000  200.000000  200.000000  200.000000  200.000000\n",
       "mean   100.500000  147.042500   23.264000   30.554000   14.022500\n",
       "std     57.879185   85.854236   14.846809   21.778621    5.217457\n",
       "min      1.000000    0.700000    0.000000    0.300000    1.600000\n",
       "25%     50.750000   74.375000    9.975000   12.750000   10.375000\n",
       "50%    100.500000  149.750000   22.900000   25.750000   12.900000\n",
       "75%    150.250000  218.825000   36.525000   45.100000   17.400000\n",
       "max    200.000000  296.400000   49.600000  114.000000   27.000000"
      ]
     },
     "execution_count": 10,
     "metadata": {},
     "output_type": "execute_result"
    }
   ],
   "source": [
    "df.describe()"
   ]
  },
  {
   "cell_type": "code",
   "execution_count": 11,
   "id": "c8a973c9",
   "metadata": {
    "execution": {
     "iopub.execute_input": "2024-01-13T18:49:22.940243Z",
     "iopub.status.busy": "2024-01-13T18:49:22.939627Z",
     "iopub.status.idle": "2024-01-13T18:49:22.975249Z",
     "shell.execute_reply": "2024-01-13T18:49:22.973861Z"
    },
    "id": "gvzvLdWcBVZ3",
    "outputId": "2e5a348c-a697-4398-beeb-8897cee26cb4",
    "papermill": {
     "duration": 0.053017,
     "end_time": "2024-01-13T18:49:22.978450",
     "exception": false,
     "start_time": "2024-01-13T18:49:22.925433",
     "status": "completed"
    },
    "tags": []
   },
   "outputs": [
    {
     "data": {
      "text/html": [
       "<div>\n",
       "<style scoped>\n",
       "    .dataframe tbody tr th:only-of-type {\n",
       "        vertical-align: middle;\n",
       "    }\n",
       "\n",
       "    .dataframe tbody tr th {\n",
       "        vertical-align: top;\n",
       "    }\n",
       "\n",
       "    .dataframe thead th {\n",
       "        text-align: right;\n",
       "    }\n",
       "</style>\n",
       "<table border=\"1\" class=\"dataframe\">\n",
       "  <thead>\n",
       "    <tr style=\"text-align: right;\">\n",
       "      <th></th>\n",
       "      <th>count</th>\n",
       "      <th>mean</th>\n",
       "      <th>std</th>\n",
       "      <th>min</th>\n",
       "      <th>25%</th>\n",
       "      <th>50%</th>\n",
       "      <th>75%</th>\n",
       "      <th>max</th>\n",
       "    </tr>\n",
       "  </thead>\n",
       "  <tbody>\n",
       "    <tr>\n",
       "      <th>Index</th>\n",
       "      <td>200.0</td>\n",
       "      <td>100.5000</td>\n",
       "      <td>57.879185</td>\n",
       "      <td>1.0</td>\n",
       "      <td>50.750</td>\n",
       "      <td>100.50</td>\n",
       "      <td>150.250</td>\n",
       "      <td>200.0</td>\n",
       "    </tr>\n",
       "    <tr>\n",
       "      <th>TV</th>\n",
       "      <td>200.0</td>\n",
       "      <td>147.0425</td>\n",
       "      <td>85.854236</td>\n",
       "      <td>0.7</td>\n",
       "      <td>74.375</td>\n",
       "      <td>149.75</td>\n",
       "      <td>218.825</td>\n",
       "      <td>296.4</td>\n",
       "    </tr>\n",
       "    <tr>\n",
       "      <th>Radio</th>\n",
       "      <td>200.0</td>\n",
       "      <td>23.2640</td>\n",
       "      <td>14.846809</td>\n",
       "      <td>0.0</td>\n",
       "      <td>9.975</td>\n",
       "      <td>22.90</td>\n",
       "      <td>36.525</td>\n",
       "      <td>49.6</td>\n",
       "    </tr>\n",
       "    <tr>\n",
       "      <th>Newspaper</th>\n",
       "      <td>200.0</td>\n",
       "      <td>30.5540</td>\n",
       "      <td>21.778621</td>\n",
       "      <td>0.3</td>\n",
       "      <td>12.750</td>\n",
       "      <td>25.75</td>\n",
       "      <td>45.100</td>\n",
       "      <td>114.0</td>\n",
       "    </tr>\n",
       "    <tr>\n",
       "      <th>Sales</th>\n",
       "      <td>200.0</td>\n",
       "      <td>14.0225</td>\n",
       "      <td>5.217457</td>\n",
       "      <td>1.6</td>\n",
       "      <td>10.375</td>\n",
       "      <td>12.90</td>\n",
       "      <td>17.400</td>\n",
       "      <td>27.0</td>\n",
       "    </tr>\n",
       "  </tbody>\n",
       "</table>\n",
       "</div>"
      ],
      "text/plain": [
       "           count      mean        std  min     25%     50%      75%    max\n",
       "Index      200.0  100.5000  57.879185  1.0  50.750  100.50  150.250  200.0\n",
       "TV         200.0  147.0425  85.854236  0.7  74.375  149.75  218.825  296.4\n",
       "Radio      200.0   23.2640  14.846809  0.0   9.975   22.90   36.525   49.6\n",
       "Newspaper  200.0   30.5540  21.778621  0.3  12.750   25.75   45.100  114.0\n",
       "Sales      200.0   14.0225   5.217457  1.6  10.375   12.90   17.400   27.0"
      ]
     },
     "execution_count": 11,
     "metadata": {},
     "output_type": "execute_result"
    }
   ],
   "source": [
    "df.describe().T"
   ]
  },
  {
   "cell_type": "code",
   "execution_count": 12,
   "id": "f1ee9c96",
   "metadata": {
    "execution": {
     "iopub.execute_input": "2024-01-13T18:49:23.006533Z",
     "iopub.status.busy": "2024-01-13T18:49:23.006137Z",
     "iopub.status.idle": "2024-01-13T18:49:23.017065Z",
     "shell.execute_reply": "2024-01-13T18:49:23.015326Z"
    },
    "id": "hk_1A_4nBxnH",
    "outputId": "f398401d-383c-49d2-8197-5ba1d3c3397c",
    "papermill": {
     "duration": 0.028573,
     "end_time": "2024-01-13T18:49:23.019951",
     "exception": false,
     "start_time": "2024-01-13T18:49:22.991378",
     "status": "completed"
    },
    "tags": []
   },
   "outputs": [
    {
     "data": {
      "text/plain": [
       "Index        0\n",
       "TV           0\n",
       "Radio        0\n",
       "Newspaper    0\n",
       "Sales        0\n",
       "dtype: int64"
      ]
     },
     "execution_count": 12,
     "metadata": {},
     "output_type": "execute_result"
    }
   ],
   "source": [
    "df.isnull().values.any()\n",
    "df.isnull().sum()"
   ]
  },
  {
   "cell_type": "markdown",
   "id": "94d062d6",
   "metadata": {
    "id": "eiIRk_EXB7Pq",
    "papermill": {
     "duration": 0.012733,
     "end_time": "2024-01-13T18:49:23.045866",
     "exception": false,
     "start_time": "2024-01-13T18:49:23.033133",
     "status": "completed"
    },
    "tags": []
   },
   "source": [
    "# **Data Visualization**"
   ]
  },
  {
   "cell_type": "code",
   "execution_count": 13,
   "id": "e37ce8cc",
   "metadata": {
    "execution": {
     "iopub.execute_input": "2024-01-13T18:49:23.074562Z",
     "iopub.status.busy": "2024-01-13T18:49:23.074160Z",
     "iopub.status.idle": "2024-01-13T18:49:24.383765Z",
     "shell.execute_reply": "2024-01-13T18:49:24.381833Z"
    },
    "id": "WLKWLtvdByxK",
    "outputId": "167d2a7d-884e-4738-b80f-c5ae6bd69dfb",
    "papermill": {
     "duration": 1.327613,
     "end_time": "2024-01-13T18:49:24.386666",
     "exception": false,
     "start_time": "2024-01-13T18:49:23.059053",
     "status": "completed"
    },
    "tags": []
   },
   "outputs": [
    {
     "name": "stderr",
     "output_type": "stream",
     "text": [
      "/opt/conda/lib/python3.10/site-packages/seaborn/axisgrid.py:118: UserWarning: The figure layout has changed to tight\n",
      "  self._figure.tight_layout(*args, **kwargs)\n"
     ]
    },
    {
     "data": {
      "text/plain": [
       "<seaborn.axisgrid.PairGrid at 0x7d836d3719f0>"
      ]
     },
     "execution_count": 13,
     "metadata": {},
     "output_type": "execute_result"
    },
    {
     "data": {
      "image/png": "[encoded data removed]",
      "text/plain": [
       "<Figure size 750x250 with 3 Axes>"
      ]
     },
     "metadata": {},
     "output_type": "display_data"
    }
   ],
   "source": [
    "sns.pairplot(df, x_vars=[\"TV\", \"Radio\", \"Newspaper\"], y_vars=\"Sales\", kind=\"reg\")"
   ]
  },
  {
   "cell_type": "code",
   "execution_count": 14,
   "id": "098af3fe",
   "metadata": {
    "execution": {
     "iopub.execute_input": "2024-01-13T18:49:24.417514Z",
     "iopub.status.busy": "2024-01-13T18:49:24.416079Z",
     "iopub.status.idle": "2024-01-13T18:49:25.638749Z",
     "shell.execute_reply": "2024-01-13T18:49:25.637186Z"
    },
    "id": "95UQsbTACAky",
    "outputId": "06131caa-2c35-4375-aaff-594db7c471d5",
    "papermill": {
     "duration": 1.240881,
     "end_time": "2024-01-13T18:49:25.641832",
     "exception": false,
     "start_time": "2024-01-13T18:49:24.400951",
     "status": "completed"
    },
    "tags": []
   },
   "outputs": [
    {
     "data": {
      "text/plain": [
       "array([[<Axes: title={'center': 'Index'}>,\n",
       "        <Axes: title={'center': 'TV'}>],\n",
       "       [<Axes: title={'center': 'Radio'}>,\n",
       "        <Axes: title={'center': 'Newspaper'}>],\n",
       "       [<Axes: title={'center': 'Sales'}>, <Axes: >]], dtype=object)"
      ]
     },
     "execution_count": 14,
     "metadata": {},
     "output_type": "execute_result"
    },
    {
     "data": {
      "image/png": "[encoded data removed]",
      "text/plain": [
       "<Figure size 640x480 with 6 Axes>"
      ]
     },
     "metadata": {},
     "output_type": "display_data"
    }
   ],
   "source": [
    "df.hist(bins=20)"
   ]
  },
  {
   "cell_type": "code",
   "execution_count": 15,
   "id": "5db0cca2",
   "metadata": {
    "execution": {
     "iopub.execute_input": "2024-01-13T18:49:25.673789Z",
     "iopub.status.busy": "2024-01-13T18:49:25.673369Z",
     "iopub.status.idle": "2024-01-13T18:49:27.703639Z",
     "shell.execute_reply": "2024-01-13T18:49:27.702653Z"
    },
    "id": "17YU0Y5CC6og",
    "outputId": "f34c0560-dc3c-4225-8dd4-6311b82275b6",
    "papermill": {
     "duration": 2.049307,
     "end_time": "2024-01-13T18:49:27.705976",
     "exception": false,
     "start_time": "2024-01-13T18:49:25.656669",
     "status": "completed"
    },
    "tags": []
   },
   "outputs": [
    {
     "name": "stderr",
     "output_type": "stream",
     "text": [
      "/opt/conda/lib/python3.10/site-packages/seaborn/axisgrid.py:118: UserWarning: The figure layout has changed to tight\n",
      "  self._figure.tight_layout(*args, **kwargs)\n",
      "/opt/conda/lib/python3.10/site-packages/seaborn/axisgrid.py:118: UserWarning: The figure layout has changed to tight\n",
      "  self._figure.tight_layout(*args, **kwargs)\n",
      "/opt/conda/lib/python3.10/site-packages/seaborn/axisgrid.py:118: UserWarning: The figure layout has changed to tight\n",
      "  self._figure.tight_layout(*args, **kwargs)\n"
     ]
    },
    {
     "data": {
      "text/plain": [
       "<seaborn.axisgrid.FacetGrid at 0x7d83684ce140>"
      ]
     },
     "execution_count": 15,
     "metadata": {},
     "output_type": "execute_result"
    },
    {
     "data": {
      "image/png": "[encoded data removed]",
      "text/plain": [
       "<Figure size 500x500 with 1 Axes>"
      ]
     },
     "metadata": {},
     "output_type": "display_data"
    },
    {
     "data": {
      "image/png": "[encoded data removed]",
      "text/plain": [
       "<Figure size 500x500 with 1 Axes>"
      ]
     },
     "metadata": {},
     "output_type": "display_data"
    },
    {
     "data": {
      "image/png": "[encoded data removed]",
      "text/plain": [
       "<Figure size 500x500 with 1 Axes>"
      ]
     },
     "metadata": {},
     "output_type": "display_data"
    }
   ],
   "source": [
    "sns.lmplot(x='TV', y='Sales', data=df)\n",
    "sns.lmplot(x='Radio', y='Sales', data=df)\n",
    "sns.lmplot(x='Newspaper',y= 'Sales', data=df)"
   ]
  },
  {
   "cell_type": "code",
   "execution_count": 16,
   "id": "e9ae1244",
   "metadata": {
    "execution": {
     "iopub.execute_input": "2024-01-13T18:49:27.742542Z",
     "iopub.status.busy": "2024-01-13T18:49:27.742116Z",
     "iopub.status.idle": "2024-01-13T18:49:28.115544Z",
     "shell.execute_reply": "2024-01-13T18:49:28.114261Z"
    },
    "id": "grkK2FMhC7Gr",
    "outputId": "560eda23-ad4a-479c-bf8a-5996f9848600",
    "papermill": {
     "duration": 0.39512,
     "end_time": "2024-01-13T18:49:28.118068",
     "exception": false,
     "start_time": "2024-01-13T18:49:27.722948",
     "status": "completed"
    },
    "tags": []
   },
   "outputs": [
    {
     "data": {
      "image/png": "[encoded data removed]",
      "text/plain": [
       "<Figure size 1200x900 with 2 Axes>"
      ]
     },
     "metadata": {},
     "output_type": "display_data"
    }
   ],
   "source": [
    "corrmat = df.corr()\n",
    "f, ax = plt.subplots(figsize=(12, 9))\n",
    "sns.heatmap(corrmat, vmin=0, vmax=1, square=True, cmap=\"YlGnBu\", ax=ax)\n",
    "plt.show()"
   ]
  },
  {
   "cell_type": "markdown",
   "id": "49324199",
   "metadata": {
    "papermill": {
     "duration": 0.01803,
     "end_time": "2024-01-13T18:49:28.155876",
     "exception": false,
     "start_time": "2024-01-13T18:49:28.137846",
     "status": "completed"
    },
    "tags": []
   },
   "source": [
    "# **Model Preparation**"
   ]
  },
  {
   "cell_type": "code",
   "execution_count": 17,
   "id": "5d9888ff",
   "metadata": {
    "execution": {
     "iopub.execute_input": "2024-01-13T18:49:28.194910Z",
     "iopub.status.busy": "2024-01-13T18:49:28.194461Z",
     "iopub.status.idle": "2024-01-13T18:49:28.204728Z",
     "shell.execute_reply": "2024-01-13T18:49:28.203584Z"
    },
    "id": "hsKF8w1VEH0b",
    "papermill": {
     "duration": 0.032586,
     "end_time": "2024-01-13T18:49:28.207465",
     "exception": false,
     "start_time": "2024-01-13T18:49:28.174879",
     "status": "completed"
    },
    "tags": []
   },
   "outputs": [],
   "source": [
    "X = df.drop('Sales', axis=1)\n",
    "y = df[[\"Sales\"]]\n",
    "X_train, X_test, y_train, y_test = train_test_split(X, y, test_size=0.20, random_state=46)"
   ]
  },
  {
   "cell_type": "code",
   "execution_count": 18,
   "id": "d0fdaccd",
   "metadata": {
    "execution": {
     "iopub.execute_input": "2024-01-13T18:49:28.245290Z",
     "iopub.status.busy": "2024-01-13T18:49:28.244871Z",
     "iopub.status.idle": "2024-01-13T18:49:28.264549Z",
     "shell.execute_reply": "2024-01-13T18:49:28.263337Z"
    },
    "id": "AORM6iX4ELxS",
    "papermill": {
     "duration": 0.042364,
     "end_time": "2024-01-13T18:49:28.267513",
     "exception": false,
     "start_time": "2024-01-13T18:49:28.225149",
     "status": "completed"
    },
    "tags": []
   },
   "outputs": [],
   "source": [
    "lin_model = sm.ols(formula=\"Sales ~ TV + Radio + Newspaper\", data=df).fit()"
   ]
  },
  {
   "cell_type": "code",
   "execution_count": 19,
   "id": "8f79b7e3",
   "metadata": {
    "execution": {
     "iopub.execute_input": "2024-01-13T18:49:28.306017Z",
     "iopub.status.busy": "2024-01-13T18:49:28.305632Z",
     "iopub.status.idle": "2024-01-13T18:49:28.312586Z",
     "shell.execute_reply": "2024-01-13T18:49:28.311251Z"
    },
    "id": "UK6IENGIEUX7",
    "outputId": "220ecb16-a3f0-437b-833f-649cdb4049e5",
    "papermill": {
     "duration": 0.029565,
     "end_time": "2024-01-13T18:49:28.315642",
     "exception": false,
     "start_time": "2024-01-13T18:49:28.286077",
     "status": "completed"
    },
    "tags": []
   },
   "outputs": [
    {
     "name": "stdout",
     "output_type": "stream",
     "text": [
      "Intercept    2.938889\n",
      "TV           0.045765\n",
      "Radio        0.188530\n",
      "Newspaper   -0.001037\n",
      "dtype: float64 \n",
      "\n"
     ]
    }
   ],
   "source": [
    "print(lin_model.params, \"\\n\")"
   ]
  },
  {
   "cell_type": "code",
   "execution_count": 20,
   "id": "7f3c8a78",
   "metadata": {
    "execution": {
     "iopub.execute_input": "2024-01-13T18:49:28.353381Z",
     "iopub.status.busy": "2024-01-13T18:49:28.352962Z",
     "iopub.status.idle": "2024-01-13T18:49:28.380425Z",
     "shell.execute_reply": "2024-01-13T18:49:28.379373Z"
    },
    "id": "lj4d530ZEYRy",
    "outputId": "984a85aa-ab71-43e8-ae8a-a20054d8882b",
    "papermill": {
     "duration": 0.04966,
     "end_time": "2024-01-13T18:49:28.383346",
     "exception": false,
     "start_time": "2024-01-13T18:49:28.333686",
     "status": "completed"
    },
    "tags": []
   },
   "outputs": [
    {
     "name": "stdout",
     "output_type": "stream",
     "text": [
      "                            OLS Regression Results                            \n",
      "==============================================================================\n",
      "Dep. Variable:                  Sales   R-squared:                       0.897\n",
      "Model:                            OLS   Adj. R-squared:                  0.896\n",
      "Method:                 Least Squares   F-statistic:                     570.3\n",
      "Date:                Sat, 13 Jan 2024   Prob (F-statistic):           1.58e-96\n",
      "Time:                        18:49:28   Log-Likelihood:                -386.18\n",
      "No. Observations:                 200   AIC:                             780.4\n",
      "Df Residuals:                     196   BIC:                             793.6\n",
      "Df Model:                           3                                         \n",
      "Covariance Type:            nonrobust                                         \n",
      "==============================================================================\n",
      "                 coef    std err          t      P>|t|      [0.025      0.975]\n",
      "------------------------------------------------------------------------------\n",
      "Intercept      2.9389      0.312      9.422      0.000       2.324       3.554\n",
      "TV             0.0458      0.001     32.809      0.000       0.043       0.049\n",
      "Radio          0.1885      0.009     21.893      0.000       0.172       0.206\n",
      "Newspaper     -0.0010      0.006     -0.177      0.860      -0.013       0.011\n",
      "==============================================================================\n",
      "Omnibus:                       60.414   Durbin-Watson:                   2.084\n",
      "Prob(Omnibus):                  0.000   Jarque-Bera (JB):              151.241\n",
      "Skew:                          -1.327   Prob(JB):                     1.44e-33\n",
      "Kurtosis:                       6.332   Cond. No.                         454.\n",
      "==============================================================================\n",
      "\n",
      "Notes:\n",
      "[1] Standard Errors assume that the covariance matrix of the errors is correctly specified.\n"
     ]
    }
   ],
   "source": [
    "print(lin_model.summary())"
   ]
  },
  {
   "cell_type": "code",
   "execution_count": 21,
   "id": "501a98bb",
   "metadata": {
    "execution": {
     "iopub.execute_input": "2024-01-13T18:49:28.423780Z",
     "iopub.status.busy": "2024-01-13T18:49:28.423381Z",
     "iopub.status.idle": "2024-01-13T18:49:28.428798Z",
     "shell.execute_reply": "2024-01-13T18:49:28.427374Z"
    },
    "id": "USsAHIwdEcU6",
    "papermill": {
     "duration": 0.027888,
     "end_time": "2024-01-13T18:49:28.431779",
     "exception": false,
     "start_time": "2024-01-13T18:49:28.403891",
     "status": "completed"
    },
    "tags": []
   },
   "outputs": [],
   "source": [
    "results = []\n",
    "names = []"
   ]
  },
  {
   "cell_type": "code",
   "execution_count": 22,
   "id": "825956e9",
   "metadata": {
    "execution": {
     "iopub.execute_input": "2024-01-13T18:49:28.471389Z",
     "iopub.status.busy": "2024-01-13T18:49:28.470992Z",
     "iopub.status.idle": "2024-01-13T18:49:28.475439Z",
     "shell.execute_reply": "2024-01-13T18:49:28.474316Z"
    },
    "id": "Y20bPplREhWK",
    "papermill": {
     "duration": 0.027693,
     "end_time": "2024-01-13T18:49:28.478196",
     "exception": false,
     "start_time": "2024-01-13T18:49:28.450503",
     "status": "completed"
    },
    "tags": []
   },
   "outputs": [],
   "source": [
    "models = [('LinearRegression', LinearRegression())]"
   ]
  },
  {
   "cell_type": "code",
   "execution_count": 23,
   "id": "5c43d338",
   "metadata": {
    "execution": {
     "iopub.execute_input": "2024-01-13T18:49:28.518418Z",
     "iopub.status.busy": "2024-01-13T18:49:28.518015Z",
     "iopub.status.idle": "2024-01-13T18:49:28.552176Z",
     "shell.execute_reply": "2024-01-13T18:49:28.550935Z"
    },
    "id": "f6Ko-t1GEseP",
    "outputId": "65ee08ec-48b1-4438-c3e7-7151f4b15099",
    "papermill": {
     "duration": 0.05733,
     "end_time": "2024-01-13T18:49:28.554911",
     "exception": false,
     "start_time": "2024-01-13T18:49:28.497581",
     "status": "completed"
    },
    "tags": []
   },
   "outputs": [
    {
     "name": "stdout",
     "output_type": "stream",
     "text": [
      "LinearRegression: 1.703648\n"
     ]
    }
   ],
   "source": [
    "for name, model in models:\n",
    "    model.fit(X_train, y_train)\n",
    "    y_pred = model.predict(X_test)\n",
    "    result = np.sqrt(mean_squared_error(y_test, y_pred))\n",
    "    results.append(result)\n",
    "    names.append(name)\n",
    "    msg = \"%s: %f\" % (name, result)\n",
    "    print(msg)"
   ]
  },
  {
   "cell_type": "markdown",
   "id": "302bb143",
   "metadata": {
    "papermill": {
     "duration": 0.018411,
     "end_time": "2024-01-13T18:49:28.592274",
     "exception": false,
     "start_time": "2024-01-13T18:49:28.573863",
     "status": "completed"
    },
    "tags": []
   },
   "source": [
    "# **Predictions on Data**"
   ]
  },
  {
   "cell_type": "code",
   "execution_count": 24,
   "id": "1a4b12f7",
   "metadata": {
    "execution": {
     "iopub.execute_input": "2024-01-13T18:49:28.630893Z",
     "iopub.status.busy": "2024-01-13T18:49:28.630181Z",
     "iopub.status.idle": "2024-01-13T18:49:28.644158Z",
     "shell.execute_reply": "2024-01-13T18:49:28.642941Z"
    },
    "id": "CfKH3KQIEyla",
    "outputId": "71204993-e17b-46c4-c0ed-e9604504368f",
    "papermill": {
     "duration": 0.036446,
     "end_time": "2024-01-13T18:49:28.646784",
     "exception": false,
     "start_time": "2024-01-13T18:49:28.610338",
     "status": "completed"
    },
    "tags": []
   },
   "outputs": [
    {
     "name": "stdout",
     "output_type": "stream",
     "text": [
      "Predicted Sales: 0    16.915917\n",
      "dtype: float64\n"
     ]
    }
   ],
   "source": [
    "new_data = pd.DataFrame({'TV': [100], 'Radio': [50], 'Newspaper': [25]})\n",
    "predicted_sales = lin_model.predict(new_data)\n",
    "print(\"Predicted Sales:\", predicted_sales)"
   ]
  },
  {
   "cell_type": "code",
   "execution_count": 25,
   "id": "5b04f56b",
   "metadata": {
    "execution": {
     "iopub.execute_input": "2024-01-13T18:49:28.685664Z",
     "iopub.status.busy": "2024-01-13T18:49:28.685254Z",
     "iopub.status.idle": "2024-01-13T18:49:28.699783Z",
     "shell.execute_reply": "2024-01-13T18:49:28.698887Z"
    },
    "id": "N-W5a1hlGdPg",
    "outputId": "fffdfcae-ec90-477d-e2b9-c85951f46246",
    "papermill": {
     "duration": 0.037552,
     "end_time": "2024-01-13T18:49:28.702609",
     "exception": false,
     "start_time": "2024-01-13T18:49:28.665057",
     "status": "completed"
    },
    "tags": []
   },
   "outputs": [
    {
     "name": "stdout",
     "output_type": "stream",
     "text": [
      "Predicted Sales: 0    15.877397\n",
      "dtype: float64\n"
     ]
    }
   ],
   "source": [
    "new_data = pd.DataFrame({'TV': [25], 'Radio': [63], 'Newspaper': [80]})\n",
    "predicted_sales = lin_model.predict(new_data)\n",
    "print(\"Predicted Sales:\", predicted_sales)"
   ]
  }
 ],
 "metadata": {
  "kaggle": {
   "accelerator": "none",
   "dataSources": [
    {
     "datasetId": 582088,
     "sourceId": 1052144,
     "sourceType": "datasetVersion"
    }
   ],
   "dockerImageVersionId": 30527,
   "isGpuEnabled": false,
   "isInternetEnabled": false,
   "language": "python",
   "sourceType": "notebook"
  },
  "kernelspec": {
   "display_name": "Python 3 (ipykernel)",
   "language": "python",
   "name": "python3"
  },
  "language_info": {
   "codemirror_mode": {
    "name": "ipython",
    "version": 3
   },
   "file_extension": ".py",
   "mimetype": "text/x-python",
   "name": "python",
   "nbconvert_exporter": "python",
   "pygments_lexer": "ipython3",
   "version": "3.11.3"
  },
  "papermill": {
   "default_parameters": {},
   "duration": 24.937877,
   "end_time": "2024-01-13T18:49:29.844653",
   "environment_variables": {},
   "exception": null,
   "input_path": "__notebook__.ipynb",
   "output_path": "__notebook__.ipynb",
   "parameters": {},
   "start_time": "2024-01-13T18:49:04.906776",
   "version": "2.4.0"
  }
 },
 "nbformat": 4,
 "nbformat_minor": 5
}
